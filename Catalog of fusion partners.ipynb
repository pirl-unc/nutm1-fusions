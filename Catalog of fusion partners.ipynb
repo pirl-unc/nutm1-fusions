{
 "cells": [
  {
   "cell_type": "markdown",
   "id": "c3569849",
   "metadata": {},
   "source": [
    "# Sources\n",
    "\n",
    "Mostly transcribing from Figure 1 of: \n",
    "\n",
    "[The expanding universe of NUTM1 fusions in pediatric cancer](https://ascpt.onlinelibrary.wiley.com/doi/full/10.1111/cts.13535) \n",
    "\n",
    "Other sources so far: \n",
    "* [Novel BRD2::NUTM1 Fusion in NUT Carcinoma With Exceptional Response to Chemotherapy: A Case Report](https://www.sciencedirect.com/science/article/pii/S2666364323001686)\n"
   ]
  },
  {
   "cell_type": "code",
   "execution_count": 2,
   "id": "5f262a64",
   "metadata": {},
   "outputs": [],
   "source": [
    "raw_string = \"\"\"\n",
    "| NUTM1  | 3’ | multiple | obligate \n",
    "| BRD4   | 5’ | NUT carcinoma | most common \n",
    "| BRD3   | 5’ | NUT carcinoma |\n",
    "| BRD2   | 5’ | NUT carcinoma | responds to chemo!\n",
    "| ZNF532 | 5’ | NUT carcinoma |\n",
    "| NSD3   | 5’ | NUT carcinoma |\n",
    "| CHRM5 | 5’ | NUT carcinoma\n",
    "| ZNF592 |  5’ | NUT carcinoma\n",
    "| ATXN1  |  5’ | sarcoma |\n",
    "| BCORL1 |  5’ | sarcoma |\n",
    "| CIC |  5’ | sarcoma |\n",
    "| MGA |  5’ | sarcoma |\n",
    "| MXD1 |  5’ | sarcoma |\n",
    "| MXD4 |  5’ | sarcoma |\n",
    "| MXI1 |  5’ | sarcoma |\n",
    "| ACIN1 |  5’ | B-ALL |\n",
    "| AFF1 |  5’ | B-ALL |\n",
    "| ATAD5 |  5’ | B-ALL |\n",
    "| BRD9 |  5’ | B-ALL |\n",
    "| CHD4 |  5’ | B-ALL |\n",
    "| CUX1 |  5’ | B-ALL |\n",
    "| IKZF1 |  5’ | B-ALL |\n",
    "| RUNX1 |  5’ | B-ALL |\n",
    "| SLC12A6 |  5’ | B-ALL |\n",
    "| ZNF618 |  5’ | B-ALL |\n",
    "| NAP1L4 |  5’ | myeloid malignancy |\n",
    "| BPTF |  5’ | T-ALL |\n",
    "| SPTBN4 |  5’ | CNS malignancy |\n",
    "| PARD3B |  5’ | CNS malignancy |\n",
    "| ZBTB7A |  5’ | AML |\n",
    "| ADCY7 |  5’ | AML |\n",
    "| AVEN |  5’ | AML\n",
    "| EMC7 |  5’ | cutaneous adnexal tumors\n",
    "| WWTR1 |  5’ | cutaneous adnexal tumors\n",
    "| YAP1 |  5’ | cutaneous adnexal tumors\"\"\""
   ]
  },
  {
   "cell_type": "code",
   "execution_count": 4,
   "id": "8d47fce1",
   "metadata": {},
   "outputs": [
    {
     "name": "stdout",
     "output_type": "stream",
     "text": [
      "ENSG00000184507 | NUTM1    | 3’ | multiple | obligate\n",
      "ENSG00000141867 | BRD4     | 5’ | NUT carcinoma | most common\n",
      "ENSG00000169925 | BRD3     | 5’ | NUT carcinoma | \n",
      "ENSG00000204256 | BRD2     | 5’ | NUT carcinoma | responds to chemo!\n",
      "ENSG00000074657 | ZNF532   | 5’ | NUT carcinoma | \n",
      "ENSG00000147548 | NSD3     | 5’ | NUT carcinoma | \n",
      "ENSG00000184984 | CHRM5    | 5’ | NUT carcinoma | \n",
      "ENSG00000166716 | ZNF592   | 5’ | NUT carcinoma | \n",
      "ENSG00000124788 | ATXN1    | 5’ | sarcoma | \n",
      "ENSG00000085185 | BCORL1   | 5’ | sarcoma | \n",
      "ENSG00000079432 | CIC      | 5’ | sarcoma | \n",
      "ENSG00000174197 | MGA      | 5’ | sarcoma | \n",
      "ENSG00000059728 | MXD1     | 5’ | sarcoma | \n",
      "ENSG00000123933 | MXD4     | 5’ | sarcoma | \n",
      "ENSG00000119950 | MXI1     | 5’ | sarcoma | \n",
      "ENSG00000100813 | ACIN1    | 5’ | B-ALL | \n",
      "ENSG00000172493 | AFF1     | 5’ | B-ALL | \n",
      "ENSG00000176208 | ATAD5    | 5’ | B-ALL | \n",
      "ENSG00000028310 | BRD9     | 5’ | B-ALL | \n",
      "ENSG00000111642 | CHD4     | 5’ | B-ALL | \n",
      "ENSG00000257923 | CUX1     | 5’ | B-ALL | \n",
      "ENSG00000185811 | IKZF1    | 5’ | B-ALL | \n",
      "ENSG00000159216 | RUNX1    | 5’ | B-ALL | \n",
      "ENSG00000140199 | SLC12A6  | 5’ | B-ALL | \n",
      "ENSG00000157657 | ZNF618   | 5’ | B-ALL | \n",
      "ENSG00000205531 | NAP1L4   | 5’ | myeloid malignancy | \n",
      "ENSG00000171634 | BPTF     | 5’ | T-ALL | \n",
      "ENSG00000160460 | SPTBN4   | 5’ | CNS malignancy | \n",
      "ENSG00000116117 | PARD3B   | 5’ | CNS malignancy | \n",
      "ENSG00000178951 | ZBTB7A   | 5’ | AML | \n",
      "ENSG00000121281 | ADCY7    | 5’ | AML | \n",
      "ENSG00000169857 | AVEN     | 5’ | AML | \n",
      "ENSG00000134153 | EMC7     | 5’ | cutaneous adnexal tumors | \n",
      "ENSG00000018408 | WWTR1    | 5’ | cutaneous adnexal tumors | \n",
      "ENSG00000137693 | YAP1     | 5’ | cutaneous adnexal tumors | \n"
     ]
    }
   ],
   "source": [
    "from pyensembl import ensembl_grch38 as genome\n",
    "for line in raw_string.split(\"\\n\"):\n",
    "    parts = [part.strip() for part in line.split(\"|\") if part.strip()]\n",
    "    if not parts:\n",
    "        continue \n",
    "    comment = \"\"\n",
    "    if parts[0].startswith(\"ENSG\"):\n",
    "        if len(parts) == 4:\n",
    "            gene_id, gene_name, end, cancer_type = parts\n",
    "        else:\n",
    "            gene_id, gene_name, end, cancer_type, comment = parts\n",
    "    else:\n",
    "        if len(parts) == 3:\n",
    "            gene_name, end, cancer_type = parts\n",
    "        else:\n",
    "            gene_name, end, cancer_type, comment = parts\n",
    "        gene_id = \";\".join(genome.gene_ids_of_gene_name(gene_name))\n",
    "        \n",
    "    print(f\"{gene_id} | {gene_name:8} | {end} | {cancer_type} | {comment}\")"
   ]
  },
  {
   "cell_type": "code",
   "execution_count": null,
   "id": "067d08b7",
   "metadata": {},
   "outputs": [],
   "source": []
  }
 ],
 "metadata": {
  "kernelspec": {
   "display_name": "Python 3 (ipykernel)",
   "language": "python",
   "name": "python3"
  },
  "language_info": {
   "codemirror_mode": {
    "name": "ipython",
    "version": 3
   },
   "file_extension": ".py",
   "mimetype": "text/x-python",
   "name": "python",
   "nbconvert_exporter": "python",
   "pygments_lexer": "ipython3",
   "version": "3.10.10"
  }
 },
 "nbformat": 4,
 "nbformat_minor": 5
}
