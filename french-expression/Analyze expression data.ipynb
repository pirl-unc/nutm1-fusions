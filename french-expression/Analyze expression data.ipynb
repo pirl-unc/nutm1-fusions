{
 "cells": [
  {
   "cell_type": "code",
   "execution_count": 47,
   "id": "d50a5bfb",
   "metadata": {},
   "outputs": [],
   "source": [
    "import pandas as pd\n",
    "df = pd.read_csv(\"GSE142481_PER403_797_CPM.txt\", index_col=None, sep=\"\\t\", skiprows=1, names=[ \n",
    "    \"gene_id\",\n",
    "    \"gene_name\",\n",
    "    \"PER403_dmso_1\",\n",
    "    \"PER403_dmso_2\",\n",
    "    \"PER403_gne_1\",\n",
    "    \"PER403_gne_2\", \n",
    "    \"PER403_neo_1\",\n",
    "    \"PER403_neo_2\", \n",
    "    \"PER403_otx_1\",\n",
    "    \"PER403_otx_2\", \n",
    "    \"PER403_otx_gne_1\",\n",
    "    'PER403_otx_gne_2',\n",
    "    'TC797_dmso_1',\n",
    "    'TC797_dmso_2', \n",
    "    'TC797_gne_1', \n",
    "    'TC797_gne_2', \n",
    "    'TC797_neo_1',\n",
    "    'TC797_neo_2', \n",
    "    'TC797_otx_1', \n",
    "    'TC797_otx_2', \n",
    "    'TC797_otx_gne_1',\n",
    "    'TC797_otx_gne_2'\n",
    "])"
   ]
  },
  {
   "cell_type": "code",
   "execution_count": 48,
   "id": "cab5b7fc",
   "metadata": {},
   "outputs": [],
   "source": [
    "df[\"PER403\"] = (df.PER403_dmso_1 + df.PER403_dmso_2) / 2\n",
    "df[\"TC797\"] = (df.TC797_dmso_1 + df.TC797_dmso_2) / 2"
   ]
  },
  {
   "cell_type": "code",
   "execution_count": 49,
   "id": "977e6cfd",
   "metadata": {},
   "outputs": [],
   "source": [
    "df_lines = df[[\"gene_id\", \"gene_name\", \"PER403\", \"TC797\"]]"
   ]
  },
  {
   "cell_type": "code",
   "execution_count": 50,
   "id": "07d08a8f",
   "metadata": {},
   "outputs": [
    {
     "data": {
      "text/html": [
       "<div>\n",
       "<style scoped>\n",
       "    .dataframe tbody tr th:only-of-type {\n",
       "        vertical-align: middle;\n",
       "    }\n",
       "\n",
       "    .dataframe tbody tr th {\n",
       "        vertical-align: top;\n",
       "    }\n",
       "\n",
       "    .dataframe thead th {\n",
       "        text-align: right;\n",
       "    }\n",
       "</style>\n",
       "<table border=\"1\" class=\"dataframe\">\n",
       "  <thead>\n",
       "    <tr style=\"text-align: right;\">\n",
       "      <th></th>\n",
       "      <th>gene_id</th>\n",
       "      <th>gene_name</th>\n",
       "      <th>PER403</th>\n",
       "      <th>TC797</th>\n",
       "    </tr>\n",
       "  </thead>\n",
       "  <tbody>\n",
       "    <tr>\n",
       "      <th>10371</th>\n",
       "      <td>ENSG00000184507.15</td>\n",
       "      <td>NUTM1</td>\n",
       "      <td>6.064538</td>\n",
       "      <td>6.200746</td>\n",
       "    </tr>\n",
       "  </tbody>\n",
       "</table>\n",
       "</div>"
      ],
      "text/plain": [
       "                  gene_id gene_name    PER403     TC797\n",
       "10371  ENSG00000184507.15     NUTM1  6.064538  6.200746"
      ]
     },
     "execution_count": 50,
     "metadata": {},
     "output_type": "execute_result"
    }
   ],
   "source": [
    "df_lines[df_lines.gene_name == \"NUTM1\"]"
   ]
  },
  {
   "cell_type": "code",
   "execution_count": 56,
   "id": "82404d2a",
   "metadata": {},
   "outputs": [
    {
     "data": {
      "text/html": [
       "<div>\n",
       "<style scoped>\n",
       "    .dataframe tbody tr th:only-of-type {\n",
       "        vertical-align: middle;\n",
       "    }\n",
       "\n",
       "    .dataframe tbody tr th {\n",
       "        vertical-align: top;\n",
       "    }\n",
       "\n",
       "    .dataframe thead th {\n",
       "        text-align: right;\n",
       "    }\n",
       "</style>\n",
       "<table border=\"1\" class=\"dataframe\">\n",
       "  <thead>\n",
       "    <tr style=\"text-align: right;\">\n",
       "      <th></th>\n",
       "      <th>gene_id</th>\n",
       "      <th>gene_name</th>\n",
       "      <th>PER403</th>\n",
       "      <th>TC797</th>\n",
       "    </tr>\n",
       "  </thead>\n",
       "  <tbody>\n",
       "    <tr>\n",
       "      <th>5050</th>\n",
       "      <td>ENSG00000096384.20</td>\n",
       "      <td>HSP90AB1</td>\n",
       "      <td>11.465208</td>\n",
       "      <td>11.538225</td>\n",
       "    </tr>\n",
       "    <tr>\n",
       "      <th>5117</th>\n",
       "      <td>ENSG00000156508.18</td>\n",
       "      <td>EEF1A1</td>\n",
       "      <td>11.419682</td>\n",
       "      <td>11.779385</td>\n",
       "    </tr>\n",
       "    <tr>\n",
       "      <th>5478</th>\n",
       "      <td>ENSG00000075624.15</td>\n",
       "      <td>ACTB</td>\n",
       "      <td>11.333835</td>\n",
       "      <td>11.467588</td>\n",
       "    </tr>\n",
       "    <tr>\n",
       "      <th>8303</th>\n",
       "      <td>ENSG00000251562.8</td>\n",
       "      <td>MALAT1</td>\n",
       "      <td>12.232974</td>\n",
       "      <td>11.682505</td>\n",
       "    </tr>\n",
       "    <tr>\n",
       "      <th>8660</th>\n",
       "      <td>ENSG00000109971.14</td>\n",
       "      <td>HSPA8</td>\n",
       "      <td>11.567356</td>\n",
       "      <td>11.685167</td>\n",
       "    </tr>\n",
       "    <tr>\n",
       "      <th>9251</th>\n",
       "      <td>ENSG00000133636.11</td>\n",
       "      <td>NTS</td>\n",
       "      <td>12.298201</td>\n",
       "      <td>12.020459</td>\n",
       "    </tr>\n",
       "    <tr>\n",
       "      <th>9968</th>\n",
       "      <td>ENSG00000276168.1</td>\n",
       "      <td>RN7SL1</td>\n",
       "      <td>13.082012</td>\n",
       "      <td>11.724364</td>\n",
       "    </tr>\n",
       "    <tr>\n",
       "      <th>9979</th>\n",
       "      <td>ENSG00000274012.1</td>\n",
       "      <td>RN7SL2</td>\n",
       "      <td>13.244771</td>\n",
       "      <td>12.117221</td>\n",
       "    </tr>\n",
       "    <tr>\n",
       "      <th>12458</th>\n",
       "      <td>ENSG00000184009.11</td>\n",
       "      <td>ACTG1</td>\n",
       "      <td>11.131633</td>\n",
       "      <td>11.169948</td>\n",
       "    </tr>\n",
       "    <tr>\n",
       "      <th>12866</th>\n",
       "      <td>ENSG00000167658.16</td>\n",
       "      <td>EEF2</td>\n",
       "      <td>11.585883</td>\n",
       "      <td>11.722729</td>\n",
       "    </tr>\n",
       "  </tbody>\n",
       "</table>\n",
       "</div>"
      ],
      "text/plain": [
       "                  gene_id gene_name     PER403      TC797\n",
       "5050   ENSG00000096384.20  HSP90AB1  11.465208  11.538225\n",
       "5117   ENSG00000156508.18    EEF1A1  11.419682  11.779385\n",
       "5478   ENSG00000075624.15      ACTB  11.333835  11.467588\n",
       "8303    ENSG00000251562.8    MALAT1  12.232974  11.682505\n",
       "8660   ENSG00000109971.14     HSPA8  11.567356  11.685167\n",
       "9251   ENSG00000133636.11       NTS  12.298201  12.020459\n",
       "9968    ENSG00000276168.1    RN7SL1  13.082012  11.724364\n",
       "9979    ENSG00000274012.1    RN7SL2  13.244771  12.117221\n",
       "12458  ENSG00000184009.11     ACTG1  11.131633  11.169948\n",
       "12866  ENSG00000167658.16      EEF2  11.585883  11.722729"
      ]
     },
     "execution_count": 56,
     "metadata": {},
     "output_type": "execute_result"
    }
   ],
   "source": [
    "df_lines[(df_lines.PER403 > 11) & (df_lines.TC797 > 11) & ~df_lines.gene_name.str.startswith(\"MT\")]"
   ]
  },
  {
   "cell_type": "code",
   "execution_count": null,
   "id": "d7b65c13",
   "metadata": {},
   "outputs": [],
   "source": []
  }
 ],
 "metadata": {
  "kernelspec": {
   "display_name": "Python 3 (ipykernel)",
   "language": "python",
   "name": "python3"
  },
  "language_info": {
   "codemirror_mode": {
    "name": "ipython",
    "version": 3
   },
   "file_extension": ".py",
   "mimetype": "text/x-python",
   "name": "python",
   "nbconvert_exporter": "python",
   "pygments_lexer": "ipython3",
   "version": "3.8.11"
  }
 },
 "nbformat": 4,
 "nbformat_minor": 5
}
