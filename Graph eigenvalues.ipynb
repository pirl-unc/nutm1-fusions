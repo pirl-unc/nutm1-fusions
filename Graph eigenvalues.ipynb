{
 "cells": [
  {
   "cell_type": "code",
   "execution_count": 16,
   "id": "34b42942",
   "metadata": {},
   "outputs": [
    {
     "name": "stdout",
     "output_type": "stream",
     "text": [
      "1 1.0\n",
      "1 1.0\n",
      "1 1.0\n",
      "1 1.0\n",
      "1 0.7499999999999999\n",
      "1 1.0\n",
      "1 0.9999999999999996\n",
      "1 0.9999999999999991\n",
      "1 0.6666666666666671\n",
      "2 0.916269875295528\n",
      "2 0.9156399965488761\n",
      "2 0.8676160555310704\n",
      "2 0.883068788376879\n",
      "2 0.7586092477235008\n",
      "2 0.9095286388149518\n",
      "2 0.7902752798068629\n",
      "2 0.9115876469642546\n",
      "2 0.9436794087942626\n",
      "4 0.570662068189169\n",
      "4 0.7252717429066239\n",
      "4 0.9010915920636834\n",
      "4 0.527605432310434\n",
      "4 0.7147946763728728\n",
      "4 0.8101275127022576\n",
      "4 0.43844985032677647\n",
      "4 0.5337315074053174\n",
      "4 0.6902428756397431\n",
      "8 0.2871022885977565\n",
      "8 0.47550674761943984\n",
      "8 0.6123625202533115\n",
      "8 0.24304918171435874\n",
      "8 0.32083599725565726\n",
      "8 0.5229254462074454\n",
      "8 0.19435451198541814\n",
      "8 0.27669043029978146\n",
      "8 0.38715510025197886\n",
      "16 0.11505157389464454\n",
      "16 0.23391506425041114\n",
      "16 0.4043469718477506\n",
      "16 0.07893980737557191\n",
      "16 0.16244082921823857\n",
      "16 0.2844386833770452\n",
      "16 0.06422243211092261\n",
      "16 0.12077132631469929\n",
      "16 0.19905380942485082\n",
      "32 5.468465096844459e-33\n",
      "32 0.07750059130027787\n",
      "32 0.17461620149929605\n",
      "32 4.253142640155377e-33\n",
      "32 0.056162685301743655\n",
      "32 0.12029754651866548\n",
      "32 1.4950746301877464e-33\n",
      "32 0.04178405594633146\n",
      "32 0.08707533287041261\n"
     ]
    }
   ],
   "source": [
    "import numpy as np \n",
    "for degree in [1, 2, 4, 8, 16, 32]:\n",
    "    for adim in [32, 64, 128]:\n",
    "        for bdim in [32, 64, 128]:\n",
    "        \n",
    "            A = np.arange(adim)\n",
    "            B = np.arange(bdim)\n",
    "            b_indices = np.arange(bdim)\n",
    "            E = np.zeros((adim, bdim), dtype=float)\n",
    "\n",
    "            for i in range(adim):\n",
    "                np.random.shuffle(b_indices)\n",
    "                for j in b_indices[:degree]:\n",
    "                    E[i, j] = 1\n",
    "            s_vals = numpy.linalg.svd(E, full_matrices=False, compute_uv=False)\n",
    "            print(degree, (s_vals[1] / s_vals[0])**2)"
   ]
  },
  {
   "cell_type": "code",
   "execution_count": 17,
   "id": "3d490f24",
   "metadata": {},
   "outputs": [],
   "source": [
    "import numpy.linalg "
   ]
  },
  {
   "cell_type": "code",
   "execution_count": 8,
   "id": "501c66f4",
   "metadata": {},
   "outputs": [],
   "source": [
    "numpy.linalg.svd?"
   ]
  },
  {
   "cell_type": "code",
   "execution_count": null,
   "id": "d9ac91a4",
   "metadata": {},
   "outputs": [],
   "source": []
  }
 ],
 "metadata": {
  "kernelspec": {
   "display_name": "Python 3 (ipykernel)",
   "language": "python",
   "name": "python3"
  },
  "language_info": {
   "codemirror_mode": {
    "name": "ipython",
    "version": 3
   },
   "file_extension": ".py",
   "mimetype": "text/x-python",
   "name": "python",
   "nbconvert_exporter": "python",
   "pygments_lexer": "ipython3",
   "version": "3.10.10"
  }
 },
 "nbformat": 4,
 "nbformat_minor": 5
}
