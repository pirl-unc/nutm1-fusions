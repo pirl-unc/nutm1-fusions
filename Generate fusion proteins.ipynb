{
 "cells": [
  {
   "cell_type": "code",
   "execution_count": 2,
   "id": "e8863c39",
   "metadata": {},
   "outputs": [],
   "source": [
    "# dictionary mapping gene names to list of last included exons\n",
    "five_prime_genes = {\n",
    "    # MGA exon 22, NUTM1 exon 3, source: https://www.ncbi.nlm.nih.gov/pmc/articles/PMC6318763/\n",
    "    \"MGA\": [22], \n",
    "    \n",
    "    # BRD4 exons 10 & 11, sources:\n",
    "    # - https://www.ncbi.nlm.nih.gov/pmc/articles/PMC5378225/\n",
    "    # - https://aacrjournals.org/cancerres/article/63/2/304/510577/BRD4-NUT-Fusion-OncogeneA-Novel-Mechanism-in\n",
    "    \"BRD4\": [10, 11],\n",
    "    \n",
    "    # BRD3 exon 9, NUTM1 exon 2, source: https://www.nature.com/articles/1210852\n",
    "    \"BRD3\": [9],\n",
    "    \n",
    "    \n",
    "    # MXD4 exon 5, NUTM1 exons 2 & 3, sources:\n",
    "    # - https://pubmed.ncbi.nlm.nih.gov/30338611/\n",
    "    # - https://www.nature.com/articles/s41379-021-00792-z\n",
    "    \"MXD4\": [5],\n",
    "    \n",
    "    # CIC exons 16-20, NUTM1 exons 2-5, source: https://hal.archives-ouvertes.fr/hal-01927040\n",
    "    \"CIC\": [16, 17, 18, 19, 20],\n",
    "    \n",
    "    # SLC12A6 exon 2, NUTM1 exon 3, source: https://www.haematologica.org/article/view/9099\n",
    "    \"SLC12A6\": [2],\n",
    "    \n",
    "    # YAP1 exon 3, NUTM1 exon 2, source: https://link.springer.com/article/10.1007/s12105-020-01173-9\n",
    "    \"YAP1\": [3],\n",
    "}\n",
    "\n",
    "# even though the CIC paper claims there are fusions on exons 4 & 5, I don't see those in any other papers\n",
    "NUTM1_start_exons = [2, 3] "
   ]
  },
  {
   "cell_type": "code",
   "execution_count": 3,
   "id": "197272ab",
   "metadata": {},
   "outputs": [],
   "source": [
    "from pyensembl import ensembl_grch38"
   ]
  },
  {
   "cell_type": "code",
   "execution_count": 44,
   "id": "642aa2d6",
   "metadata": {},
   "outputs": [],
   "source": [
    "name_to_gene = {}\n",
    "for name in set(five_prime_genes.keys()).union({\"NUTM1\"}):\n",
    "    genes = ensembl_grch38.genes_by_name(name)\n",
    "    assert len(genes) == 1\n",
    "    name_to_gene[name] = genes[0]"
   ]
  },
  {
   "cell_type": "code",
   "execution_count": 45,
   "id": "0f84bfc6",
   "metadata": {},
   "outputs": [],
   "source": [
    "def transcript_key(t):\n",
    "    return (t.complete, -t.support_level if t.support_level else 100, len(t.protein_sequence) if t.protein_sequence else 0)\n",
    "\n",
    "def pick_best_transcript(ts):\n",
    "    return sorted(ts, key=transcript_key)[-1]"
   ]
  },
  {
   "cell_type": "code",
   "execution_count": 52,
   "id": "999136dc",
   "metadata": {},
   "outputs": [],
   "source": [
    "canonical_transcripts = {\"NUTM1\": \"NUTM1-203\"}\n",
    "\n",
    "name_to_transcript = {}\n",
    "\n",
    "for (name, gene) in name_to_gene.items():\n",
    "    if name in canonical_transcripts:\n",
    "        transcript_name = canonical_transcripts[name]\n",
    "        transcript = ensembl_grch38.transcripts_by_name(transcript_name)[0]\n",
    "    else:\n",
    "        transcript = pick_best_transcript(gene.transcripts)\n",
    "    name_to_transcript[name] = transcript"
   ]
  },
  {
   "cell_type": "code",
   "execution_count": 53,
   "id": "c4be58e4",
   "metadata": {},
   "outputs": [
    {
     "data": {
      "text/plain": [
       "{'CIC': Transcript(transcript_id='ENST00000681038', transcript_name='CIC-209', gene_id='ENSG00000079432', biotype='protein_coding', contig='19', start=42269252, end=42295796, strand='+', genome='GRCh38'),\n",
       " 'SLC12A6': Transcript(transcript_id='ENST00000676379', transcript_name='SLC12A6-221', gene_id='ENSG00000140199', biotype='protein_coding', contig='15', start=34230036, end=34337462, strand='-', genome='GRCh38'),\n",
       " 'BRD4': Transcript(transcript_id='ENST00000679869', transcript_name='BRD4-213', gene_id='ENSG00000141867', biotype='protein_coding', contig='19', start=15235519, end=15332539, strand='-', genome='GRCh38'),\n",
       " 'YAP1': Transcript(transcript_id='ENST00000282441', transcript_name='YAP1-201', gene_id='ENSG00000137693', biotype='protein_coding', contig='11', start=102110447, end=102233424, strand='+', genome='GRCh38'),\n",
       " 'BRD3': Transcript(transcript_id='ENST00000303407', transcript_name='BRD3-201', gene_id='ENSG00000169925', biotype='protein_coding', contig='9', start=134030305, end=134068026, strand='-', genome='GRCh38'),\n",
       " 'MXD4': Transcript(transcript_id='ENST00000337190', transcript_name='MXD4-201', gene_id='ENSG00000123933', biotype='protein_coding', contig='4', start=2247432, end=2262109, strand='-', genome='GRCh38'),\n",
       " 'MGA': Transcript(transcript_id='ENST00000566586', transcript_name='MGA-207', gene_id='ENSG00000174197', biotype='protein_coding', contig='15', start=41660397, end=41773081, strand='+', genome='GRCh38'),\n",
       " 'NUTM1': Transcript(transcript_id='ENST00000537011', transcript_name='NUTM1-203', gene_id='ENSG00000184507', biotype='protein_coding', contig='15', start=34343315, end=34357735, strand='+', genome='GRCh38')}"
      ]
     },
     "execution_count": 53,
     "metadata": {},
     "output_type": "execute_result"
    }
   ],
   "source": [
    "name_to_transcript"
   ]
  },
  {
   "cell_type": "code",
   "execution_count": 54,
   "id": "242d3745",
   "metadata": {},
   "outputs": [],
   "source": [
    "name_to_coding_exon_lengths = {}\n",
    "for name, transcript in name_to_transcript.items():\n",
    "    exon_coords = transcript.coding_sequence_position_ranges\n",
    "    if transcript.strand == \"-\":\n",
    "        exons = reversed([(end, start) for (start, end) in exon_coords])\n",
    "    name_to_coding_exon_lengths[name] = [end - start + 1 for (start, end) in exon_coords]\n",
    "        "
   ]
  },
  {
   "cell_type": "code",
   "execution_count": 55,
   "id": "ad9355b2",
   "metadata": {},
   "outputs": [
    {
     "data": {
      "text/plain": [
       "{'CIC': [2794,\n",
       "  150,\n",
       "  235,\n",
       "  130,\n",
       "  183,\n",
       "  166,\n",
       "  203,\n",
       "  226,\n",
       "  104,\n",
       "  1234,\n",
       "  188,\n",
       "  122,\n",
       "  167,\n",
       "  294,\n",
       "  326,\n",
       "  245,\n",
       "  155,\n",
       "  132,\n",
       "  132,\n",
       "  365],\n",
       " 'SLC12A6': [271,\n",
       "  45,\n",
       "  95,\n",
       "  132,\n",
       "  147,\n",
       "  55,\n",
       "  131,\n",
       "  242,\n",
       "  215,\n",
       "  159,\n",
       "  99,\n",
       "  58,\n",
       "  175,\n",
       "  119,\n",
       "  99,\n",
       "  120,\n",
       "  105,\n",
       "  169,\n",
       "  196,\n",
       "  170,\n",
       "  132,\n",
       "  108,\n",
       "  185,\n",
       "  134,\n",
       "  32,\n",
       "  33],\n",
       " 'BRD4': [285,\n",
       "  138,\n",
       "  136,\n",
       "  290,\n",
       "  363,\n",
       "  129,\n",
       "  210,\n",
       "  200,\n",
       "  296,\n",
       "  111,\n",
       "  53,\n",
       "  370,\n",
       "  588,\n",
       "  113,\n",
       "  163,\n",
       "  131,\n",
       "  206,\n",
       "  238,\n",
       "  66],\n",
       " 'YAP1': [321, 251, 116, 114, 182, 48, 131, 113, 236],\n",
       " 'BRD3': [213, 138, 148, 215, 372, 129, 192, 236, 293, 129, 113],\n",
       " 'MXD4': [64, 100, 30, 115, 163, 155],\n",
       " 'MGA': [1064,\n",
       "  949,\n",
       "  79,\n",
       "  96,\n",
       "  132,\n",
       "  105,\n",
       "  659,\n",
       "  346,\n",
       "  227,\n",
       "  186,\n",
       "  73,\n",
       "  518,\n",
       "  151,\n",
       "  291,\n",
       "  1505,\n",
       "  131,\n",
       "  52,\n",
       "  207,\n",
       "  112,\n",
       "  234,\n",
       "  177,\n",
       "  1274],\n",
       " 'NUTM1': [6, 94, 709, 129, 137, 287, 117, 2001]}"
      ]
     },
     "execution_count": 55,
     "metadata": {},
     "output_type": "execute_result"
    }
   ],
   "source": [
    "name_to_coding_exon_lengths"
   ]
  },
  {
   "cell_type": "code",
   "execution_count": 73,
   "id": "1b6e104c",
   "metadata": {},
   "outputs": [
    {
     "data": {
      "text/plain": [
       "{'CIC': 1,\n",
       " 'SLC12A6': 0,\n",
       " 'BRD4': 1,\n",
       " 'YAP1': 0,\n",
       " 'BRD3': 1,\n",
       " 'MXD4': 0,\n",
       " 'MGA': 1,\n",
       " 'NUTM1': 0}"
      ]
     },
     "execution_count": 73,
     "metadata": {},
     "output_type": "execute_result"
    }
   ],
   "source": [
    "name_to_5prime_utr_exons_count = {}\n",
    "for name, t in name_to_transcript.items():\n",
    "    \n",
    "    if t.strand == \"+\":\n",
    "        start_codon_pos = min(t.start_codon_positions)\n",
    "        count = sum([\n",
    "            end < start_codon_pos\n",
    "            for (_, end) in t.exon_intervals])\n",
    "    else:\n",
    "        start_codon_pos = max(t.start_codon_positions)\n",
    "        count = sum([\n",
    "            start > start_codon_pos\n",
    "            for (start, end) in t.exon_intervals])\n",
    "    name_to_5prime_utr_exons_count[name] = count\n",
    "name_to_5prime_utr_exons_count"
   ]
  },
  {
   "cell_type": "code",
   "execution_count": null,
   "id": "8bdbeadb",
   "metadata": {},
   "outputs": [],
   "source": [
    "\n",
    "name_and_exon_to_cds_length = {}\n",
    "for name, exon_numbers in list(five_prime_genes.items()) + [(\"NUTM1\", NUTM1_start_exons)]:\n",
    "    print(name, exon_numbers) \n",
    "    skip_exons = name_to_5prime_utr_exons_count[name]\n",
    "    if name == \"NUTM1\":\n",
    "        min_exon = min(exon_numbers)\n",
    "        exon_numbers = [min_exon - 1] + exon_numbers\n",
    "    for exon_number in exon_numbers:\n",
    "        cds_length = sum(name_to_coding_exon_lengths[name][:exon_number])\n",
    "        print(\"-- %s %d: %d (%d)\" % (name, exon_number, cds_length, cds_length % 3))"
   ]
  },
  {
   "cell_type": "code",
   "execution_count": 58,
   "id": "84757354",
   "metadata": {},
   "outputs": [
    {
     "data": {
      "text/plain": [
       "Transcript(transcript_id='ENST00000282441', transcript_name='YAP1-201', gene_id='ENSG00000137693', biotype='protein_coding', contig='11', start=102110447, end=102233424, strand='+', genome='GRCh38')"
      ]
     },
     "execution_count": 58,
     "metadata": {},
     "output_type": "execute_result"
    }
   ],
   "source": [
    "name_to_transcript[\"YAP1\"]"
   ]
  },
  {
   "cell_type": "code",
   "execution_count": 64,
   "id": "fac998b6",
   "metadata": {},
   "outputs": [
    {
     "data": {
      "text/plain": [
       "Transcript(transcript_id='ENST00000679869', transcript_name='BRD4-213', gene_id='ENSG00000141867', biotype='protein_coding', contig='19', start=15235519, end=15332539, strand='-', genome='GRCh38')"
      ]
     },
     "execution_count": 64,
     "metadata": {},
     "output_type": "execute_result"
    }
   ],
   "source": [
    "name_to_transcript[\"BRD4\"]"
   ]
  },
  {
   "cell_type": "code",
   "execution_count": 67,
   "id": "077a62e8",
   "metadata": {},
   "outputs": [
    {
     "data": {
      "text/plain": [
       "[34343697, 34343698, 34343699]"
      ]
     },
     "execution_count": 67,
     "metadata": {},
     "output_type": "execute_result"
    }
   ],
   "source": [
    "t.start_codon_positions"
   ]
  },
  {
   "cell_type": "code",
   "execution_count": 68,
   "id": "7ce3638c",
   "metadata": {},
   "outputs": [
    {
     "data": {
      "text/plain": [
       "[382, 383, 384]"
      ]
     },
     "execution_count": 68,
     "metadata": {},
     "output_type": "execute_result"
    }
   ],
   "source": [
    "t.start_codon_unspliced_offsets"
   ]
  },
  {
   "cell_type": "code",
   "execution_count": 71,
   "id": "ff399ae2",
   "metadata": {},
   "outputs": [
    {
     "data": {
      "text/plain": [
       "[(34343315, 34343702),\n",
       " (34345942, 34346035),\n",
       " (34347969, 34348677),\n",
       " (34350704, 34350832),\n",
       " (34353736, 34353872),\n",
       " (34354446, 34354732),\n",
       " (34355021, 34355137),\n",
       " (34355488, 34357735)]"
      ]
     },
     "execution_count": 71,
     "metadata": {},
     "output_type": "execute_result"
    }
   ],
   "source": [
    "t.exon_intervals"
   ]
  },
  {
   "cell_type": "code",
   "execution_count": null,
   "id": "cbd5a43a",
   "metadata": {},
   "outputs": [],
   "source": []
  }
 ],
 "metadata": {
  "kernelspec": {
   "display_name": "Python 3 (ipykernel)",
   "language": "python",
   "name": "python3"
  },
  "language_info": {
   "codemirror_mode": {
    "name": "ipython",
    "version": 3
   },
   "file_extension": ".py",
   "mimetype": "text/x-python",
   "name": "python",
   "nbconvert_exporter": "python",
   "pygments_lexer": "ipython3",
   "version": "3.8.11"
  }
 },
 "nbformat": 4,
 "nbformat_minor": 5
}
