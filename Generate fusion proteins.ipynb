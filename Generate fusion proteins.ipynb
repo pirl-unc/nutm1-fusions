{
 "cells": [
  {
   "cell_type": "code",
   "execution_count": 98,
   "id": "b2dd1348",
   "metadata": {},
   "outputs": [],
   "source": [
    "# dictionary mapping gene names to list of last included exons\n",
    "five_prime_genes = {\n",
    "    # MGA exon 22, NUTM1 exon 3, source: https://www.ncbi.nlm.nih.gov/pmc/articles/PMC6318763/\n",
    "    \"MGA\": [22], \n",
    "    \n",
    "    # BRD4 exons 10 & 11, sources:\n",
    "    # - https://www.ncbi.nlm.nih.gov/pmc/articles/PMC5378225/\n",
    "    # - https://aacrjournals.org/cancerres/article/63/2/304/510577/BRD4-NUT-Fusion-OncogeneA-Novel-Mechanism-in\n",
    "    #\n",
    "    # - exon 15, source: https://www.nature.com/articles/onc2012487\n",
    "    \"BRD4\": [10, 11, 12, 13, 14, 15],\n",
    "    \n",
    "    # BRD3 exon 9, NUTM1 exon 2, source: https://www.nature.com/articles/1210852\n",
    "    \"BRD3\": [9],\n",
    "    \n",
    "    \n",
    "    # MXD4 exon 5, NUTM1 exons 2 & 3, sources:\n",
    "    # - https://pubmed.ncbi.nlm.nih.gov/30338611/\n",
    "    # - https://www.nature.com/articles/s41379-021-00792-z\n",
    "    \"MXD4\": [5],\n",
    "    \n",
    "    # CIC exons 16-20, NUTM1 exons 2-5, source: https://hal.archives-ouvertes.fr/hal-01927040\n",
    "    \"CIC\": [16, 17, 18, 19, 20],\n",
    "    \n",
    "    # SLC12A6 exon 2, NUTM1 exon 3, source: https://www.haematologica.org/article/view/9099\n",
    "    \"SLC12A6\": [2],\n",
    "    \n",
    "    # YAP1 exon 3, NUTM1 exon 2, source: https://link.springer.com/article/10.1007/s12105-020-01173-9\n",
    "    \"YAP1\": [3],\n",
    "}\n",
    "\n",
    "# * even though the CIC paper claims there are fusions on exons 4 & 5, I don't see those in any other papers\n",
    "# * OK, found one reference with BRD4 exon 11 fused onto NUTM1 exon 3, both of which have end/start phases of 1\n",
    "#   source: \n",
    "# * Oy, found that older references missed what is now considered exon 1, so adding exon 6 which was the old exon 5\n",
    "NUTM1_start_exons = [2, 3, 4, 5, 6] "
   ]
  },
  {
   "cell_type": "code",
   "execution_count": 99,
   "id": "e8dcb8d6",
   "metadata": {},
   "outputs": [],
   "source": [
    "from pyensembl import ensembl_grch38"
   ]
  },
  {
   "cell_type": "code",
   "execution_count": 100,
   "id": "1e0d38f2",
   "metadata": {},
   "outputs": [],
   "source": [
    "name_to_gene = {}\n",
    "for name in set(five_prime_genes.keys()).union({\"NUTM1\"}):\n",
    "    genes = ensembl_grch38.genes_by_name(name)\n",
    "    assert len(genes) == 1\n",
    "    name_to_gene[name] = genes[0]"
   ]
  },
  {
   "cell_type": "code",
   "execution_count": 101,
   "id": "e84bf0cb",
   "metadata": {},
   "outputs": [],
   "source": [
    "def transcript_key(t):\n",
    "    return (t.complete, -t.support_level if t.support_level else 100, len(t.protein_sequence) if t.protein_sequence else 0)\n",
    "\n",
    "def pick_best_transcript(ts):\n",
    "    return sorted(ts, key=transcript_key)[-1]"
   ]
  },
  {
   "cell_type": "code",
   "execution_count": 102,
   "id": "3a35b493",
   "metadata": {},
   "outputs": [],
   "source": [
    "canonical_transcripts = {\"NUTM1\": \"NUTM1-203\"}\n",
    "\n",
    "name_to_transcript = {}\n",
    "\n",
    "for (name, gene) in name_to_gene.items():\n",
    "    if name in canonical_transcripts:\n",
    "        transcript_name = canonical_transcripts[name]\n",
    "        transcript = ensembl_grch38.transcripts_by_name(transcript_name)[0]\n",
    "    else:\n",
    "        transcript = pick_best_transcript(gene.transcripts)\n",
    "    name_to_transcript[name] = transcript"
   ]
  },
  {
   "cell_type": "code",
   "execution_count": 103,
   "id": "18fe6786",
   "metadata": {},
   "outputs": [
    {
     "data": {
      "text/plain": [
       "{'CIC': Transcript(transcript_id='ENST00000681038', transcript_name='CIC-209', gene_id='ENSG00000079432', biotype='protein_coding', contig='19', start=42269252, end=42295796, strand='+', genome='GRCh38'),\n",
       " 'SLC12A6': Transcript(transcript_id='ENST00000676379', transcript_name='SLC12A6-221', gene_id='ENSG00000140199', biotype='protein_coding', contig='15', start=34230036, end=34337462, strand='-', genome='GRCh38'),\n",
       " 'BRD4': Transcript(transcript_id='ENST00000679869', transcript_name='BRD4-213', gene_id='ENSG00000141867', biotype='protein_coding', contig='19', start=15235519, end=15332539, strand='-', genome='GRCh38'),\n",
       " 'YAP1': Transcript(transcript_id='ENST00000282441', transcript_name='YAP1-201', gene_id='ENSG00000137693', biotype='protein_coding', contig='11', start=102110447, end=102233424, strand='+', genome='GRCh38'),\n",
       " 'BRD3': Transcript(transcript_id='ENST00000303407', transcript_name='BRD3-201', gene_id='ENSG00000169925', biotype='protein_coding', contig='9', start=134030305, end=134068026, strand='-', genome='GRCh38'),\n",
       " 'MXD4': Transcript(transcript_id='ENST00000337190', transcript_name='MXD4-201', gene_id='ENSG00000123933', biotype='protein_coding', contig='4', start=2247432, end=2262109, strand='-', genome='GRCh38'),\n",
       " 'MGA': Transcript(transcript_id='ENST00000566586', transcript_name='MGA-207', gene_id='ENSG00000174197', biotype='protein_coding', contig='15', start=41660397, end=41773081, strand='+', genome='GRCh38'),\n",
       " 'NUTM1': Transcript(transcript_id='ENST00000537011', transcript_name='NUTM1-203', gene_id='ENSG00000184507', biotype='protein_coding', contig='15', start=34343315, end=34357735, strand='+', genome='GRCh38')}"
      ]
     },
     "execution_count": 103,
     "metadata": {},
     "output_type": "execute_result"
    }
   ],
   "source": [
    "name_to_transcript"
   ]
  },
  {
   "cell_type": "code",
   "execution_count": 104,
   "id": "97b56ed5",
   "metadata": {},
   "outputs": [],
   "source": [
    "name_to_coding_exon_lengths = {}\n",
    "for name, transcript in name_to_transcript.items():\n",
    "    exon_coords = transcript.coding_sequence_position_ranges\n",
    "    if transcript.strand == \"-\":\n",
    "        exons = reversed([(end, start) for (start, end) in exon_coords])\n",
    "    name_to_coding_exon_lengths[name] = [end - start + 1 for (start, end) in exon_coords]\n",
    "        "
   ]
  },
  {
   "cell_type": "code",
   "execution_count": 105,
   "id": "6acd370f",
   "metadata": {},
   "outputs": [
    {
     "data": {
      "text/plain": [
       "{'CIC': [2794,\n",
       "  150,\n",
       "  235,\n",
       "  130,\n",
       "  183,\n",
       "  166,\n",
       "  203,\n",
       "  226,\n",
       "  104,\n",
       "  1234,\n",
       "  188,\n",
       "  122,\n",
       "  167,\n",
       "  294,\n",
       "  326,\n",
       "  245,\n",
       "  155,\n",
       "  132,\n",
       "  132,\n",
       "  365],\n",
       " 'SLC12A6': [271,\n",
       "  45,\n",
       "  95,\n",
       "  132,\n",
       "  147,\n",
       "  55,\n",
       "  131,\n",
       "  242,\n",
       "  215,\n",
       "  159,\n",
       "  99,\n",
       "  58,\n",
       "  175,\n",
       "  119,\n",
       "  99,\n",
       "  120,\n",
       "  105,\n",
       "  169,\n",
       "  196,\n",
       "  170,\n",
       "  132,\n",
       "  108,\n",
       "  185,\n",
       "  134,\n",
       "  32,\n",
       "  33],\n",
       " 'BRD4': [285,\n",
       "  138,\n",
       "  136,\n",
       "  290,\n",
       "  363,\n",
       "  129,\n",
       "  210,\n",
       "  200,\n",
       "  296,\n",
       "  111,\n",
       "  53,\n",
       "  370,\n",
       "  588,\n",
       "  113,\n",
       "  163,\n",
       "  131,\n",
       "  206,\n",
       "  238,\n",
       "  66],\n",
       " 'YAP1': [321, 251, 116, 114, 182, 48, 131, 113, 236],\n",
       " 'BRD3': [213, 138, 148, 215, 372, 129, 192, 236, 293, 129, 113],\n",
       " 'MXD4': [64, 100, 30, 115, 163, 155],\n",
       " 'MGA': [1064,\n",
       "  949,\n",
       "  79,\n",
       "  96,\n",
       "  132,\n",
       "  105,\n",
       "  659,\n",
       "  346,\n",
       "  227,\n",
       "  186,\n",
       "  73,\n",
       "  518,\n",
       "  151,\n",
       "  291,\n",
       "  1505,\n",
       "  131,\n",
       "  52,\n",
       "  207,\n",
       "  112,\n",
       "  234,\n",
       "  177,\n",
       "  1274],\n",
       " 'NUTM1': [6, 94, 709, 129, 137, 287, 117, 2001]}"
      ]
     },
     "execution_count": 105,
     "metadata": {},
     "output_type": "execute_result"
    }
   ],
   "source": [
    "name_to_coding_exon_lengths"
   ]
  },
  {
   "cell_type": "code",
   "execution_count": 106,
   "id": "d09f3928",
   "metadata": {},
   "outputs": [
    {
     "data": {
      "text/plain": [
       "{'CIC': 1,\n",
       " 'SLC12A6': 0,\n",
       " 'BRD4': 1,\n",
       " 'YAP1': 0,\n",
       " 'BRD3': 1,\n",
       " 'MXD4': 0,\n",
       " 'MGA': 1,\n",
       " 'NUTM1': 0}"
      ]
     },
     "execution_count": 106,
     "metadata": {},
     "output_type": "execute_result"
    }
   ],
   "source": [
    "name_to_5prime_utr_exons_count = {}\n",
    "for name, t in name_to_transcript.items():\n",
    "    \n",
    "    if t.strand == \"+\":\n",
    "        start_codon_pos = min(t.start_codon_positions)\n",
    "        count = sum([\n",
    "            end < start_codon_pos\n",
    "            for (_, end) in t.exon_intervals])\n",
    "    else:\n",
    "        start_codon_pos = max(t.start_codon_positions)\n",
    "        count = sum([\n",
    "            start > start_codon_pos\n",
    "            for (start, end) in t.exon_intervals])\n",
    "    name_to_5prime_utr_exons_count[name] = count\n",
    "name_to_5prime_utr_exons_count"
   ]
  },
  {
   "cell_type": "code",
   "execution_count": 107,
   "id": "070e4098",
   "metadata": {},
   "outputs": [
    {
     "name": "stdout",
     "output_type": "stream",
     "text": [
      "MGA [22]\n",
      "-- MGA 21: 7117 (1)\n",
      "-- MGA 22: 7294 (1)\n",
      "BRD4 [10, 11, 12, 13, 14, 15]\n",
      "-- BRD4 9: 1751 (2)\n",
      "-- BRD4 10: 2047 (1)\n",
      "-- BRD4 11: 2158 (1)\n",
      "-- BRD4 12: 2211 (0)\n",
      "-- BRD4 13: 2581 (1)\n",
      "-- BRD4 14: 3169 (1)\n",
      "-- BRD4 15: 3282 (0)\n",
      "BRD3 [9]\n",
      "-- BRD3 8: 1407 (0)\n",
      "-- BRD3 9: 1643 (2)\n",
      "MXD4 [5]\n",
      "-- MXD4 4: 309 (0)\n",
      "-- MXD4 5: 472 (1)\n",
      "CIC [16, 17, 18, 19, 20]\n",
      "-- CIC 15: 6196 (1)\n",
      "-- CIC 16: 6522 (0)\n",
      "-- CIC 17: 6767 (2)\n",
      "-- CIC 18: 6922 (1)\n",
      "-- CIC 19: 7054 (1)\n",
      "-- CIC 20: 7186 (1)\n",
      "SLC12A6 [2]\n",
      "-- SLC12A6 1: 271 (1)\n",
      "-- SLC12A6 2: 316 (1)\n",
      "YAP1 [3]\n",
      "-- YAP1 2: 572 (2)\n",
      "-- YAP1 3: 688 (1)\n",
      "NUTM1 [2, 3, 4, 5]\n",
      "-- NUTM1 1: 6 (0)\n",
      "-- NUTM1 2: 100 (1)\n",
      "-- NUTM1 3: 809 (2)\n",
      "-- NUTM1 4: 938 (2)\n",
      "-- NUTM1 5: 1075 (1)\n"
     ]
    }
   ],
   "source": [
    "\n",
    "name_and_exon_to_cds_length = {}\n",
    "\n",
    "for name, exon_numbers in list(five_prime_genes.items()) + [(\"NUTM1\", NUTM1_start_exons)]:\n",
    "    print(name, exon_numbers) \n",
    "    exon_numbers = [min(exon_numbers) - 1] + exon_numbers\n",
    "    num_utr_exons = name_to_5prime_utr_exons_count[name]\n",
    "    for exon_number in exon_numbers:\n",
    "        cds_length = sum(name_to_coding_exon_lengths[name][:(exon_number - num_utr_exons)])\n",
    "        print(\"-- %s %d: %d (%d)\" % (name, exon_number, cds_length, cds_length % 3))\n",
    "        name_and_exon_to_cds_length[(name, exon_number)] = cds_length"
   ]
  },
  {
   "cell_type": "code",
   "execution_count": 109,
   "id": "31ed5350",
   "metadata": {},
   "outputs": [
    {
     "name": "stdout",
     "output_type": "stream",
     "text": [
      "MGA exon 22, start phase 1, end phase 1\n",
      "BRD4 exon 10, start phase 2, end phase 1\n",
      "BRD4 exon 11, start phase 1, end phase 1\n",
      "BRD4 exon 12, start phase 1, end phase 0\n",
      "BRD4 exon 13, start phase 0, end phase 1\n",
      "BRD4 exon 14, start phase 1, end phase 1\n",
      "BRD4 exon 15, start phase 1, end phase 0\n",
      "BRD3 exon 9, start phase 0, end phase 2\n",
      "MXD4 exon 5, start phase 0, end phase 1\n",
      "CIC exon 16, start phase 1, end phase 0\n",
      "CIC exon 17, start phase 0, end phase 2\n",
      "CIC exon 18, start phase 2, end phase 1\n",
      "CIC exon 19, start phase 1, end phase 1\n",
      "CIC exon 20, start phase 1, end phase 1\n",
      "SLC12A6 exon 2, start phase 1, end phase 1\n",
      "YAP1 exon 3, start phase 2, end phase 1\n",
      "NUTM1 exon 2, start phase 0, end phase 1\n",
      "NUTM1 exon 3, start phase 1, end phase 2\n",
      "NUTM1 exon 4, start phase 2, end phase 2\n",
      "NUTM1 exon 5, start phase 2, end phase 1\n"
     ]
    }
   ],
   "source": [
    "name_and_exon_start_phase = {}\n",
    "name_and_exon_end_phase = {}\n",
    "for name, exon_numbers in list(five_prime_genes.items()) + [(\"NUTM1\", NUTM1_start_exons)]:\n",
    "    for exon_number in exon_numbers:\n",
    "        cds_length_prev = name_and_exon_to_cds_length[(name, exon_number - 1)]\n",
    "        cds_length = name_and_exon_to_cds_length[(name, exon_number)]\n",
    "        start_phase = cds_length_prev % 3\n",
    "        end_phase = cds_length % 3\n",
    "        name_and_exon_start_phase[(name, exon_number)] = start_phase\n",
    "        name_and_exon_end_phase[(name, exon_number)] = end_phase\n",
    "        print(\"%s exon %d, start phase %d, end phase %d\" % (name, exon_number, start_phase, end_phase))\n",
    "        "
   ]
  },
  {
   "cell_type": "code",
   "execution_count": 112,
   "id": "708c51f4",
   "metadata": {},
   "outputs": [
    {
     "name": "stdout",
     "output_type": "stream",
     "text": [
      "MGA exon 22 -> NUTM1 exon 2\n",
      "MGA exon 22 -> NUTM1 exon 5\n",
      "BRD4 exon 10 -> NUTM1 exon 3\n",
      "BRD4 exon 10 -> NUTM1 exon 4\n",
      "BRD4 exon 11 -> NUTM1 exon 2\n",
      "BRD4 exon 11 -> NUTM1 exon 5\n",
      "BRD4 exon 12 -> NUTM1 exon 2\n",
      "BRD4 exon 12 -> NUTM1 exon 5\n",
      "BRD4 exon 14 -> NUTM1 exon 2\n",
      "BRD4 exon 14 -> NUTM1 exon 5\n",
      "BRD4 exon 15 -> NUTM1 exon 2\n",
      "BRD4 exon 15 -> NUTM1 exon 5\n",
      "CIC exon 16 -> NUTM1 exon 2\n",
      "CIC exon 16 -> NUTM1 exon 5\n",
      "CIC exon 18 -> NUTM1 exon 3\n",
      "CIC exon 18 -> NUTM1 exon 4\n",
      "CIC exon 19 -> NUTM1 exon 2\n",
      "CIC exon 19 -> NUTM1 exon 5\n",
      "CIC exon 20 -> NUTM1 exon 2\n",
      "CIC exon 20 -> NUTM1 exon 5\n",
      "SLC12A6 exon 2 -> NUTM1 exon 2\n",
      "SLC12A6 exon 2 -> NUTM1 exon 5\n",
      "YAP1 exon 3 -> NUTM1 exon 3\n",
      "YAP1 exon 3 -> NUTM1 exon 4\n"
     ]
    }
   ],
   "source": [
    "valid_pairs = []\n",
    "\n",
    "for five_prime_name, five_prime_exon_numbers in list(five_prime_genes.items()):\n",
    "    for five_prime_exon_number in five_prime_exon_numbers:\n",
    "        five_prime_phase = name_and_exon_start_phase[(five_prime_name, five_prime_exon_number)]\n",
    "\n",
    "        for three_prime_name, three_prime_exon_numbers in [(\"NUTM1\", NUTM1_start_exons)]:\n",
    "            for three_prime_exon_number in three_prime_exon_numbers:\n",
    "                three_prime_phase = name_and_exon_end_phase[(three_prime_name, three_prime_exon_number)]\n",
    "                if five_prime_phase == three_prime_phase:\n",
    "                    print(\"%s exon %d -> %s exon %d\" % (\n",
    "                        five_prime_name, five_prime_exon_number, \n",
    "                        three_prime_name, three_prime_exon_number))\n",
    "                    valid_pairs.append((\n",
    "                        (five_prime_name, five_prime_exon_number),\n",
    "                        (three_prime_name, three_prime_exon_number)\n",
    "                    ))"
   ]
  },
  {
   "cell_type": "code",
   "execution_count": 138,
   "id": "9f808abb",
   "metadata": {},
   "outputs": [
    {
     "name": "stdout",
     "output_type": "stream",
     "text": [
      "Truncating MGA CDS (length 8571) to exon 22 (length 7294)\n",
      "1 1\n",
      "Starting NUTM1 CDS (length 3483) at exon 2 (length 3477)\n",
      "0 0\n",
      "('MGA', 22) ('NUTM1', 2) 1\n",
      "Truncating MGA CDS (length 8571) to exon 22 (length 7294)\n",
      "1 1\n",
      "Starting NUTM1 CDS (length 3483) at exon 5 (length 2545)\n",
      "1 2\n",
      "('MGA', 22) ('NUTM1', 5) 2\n",
      "Truncating BRD4 CDS (length 4089) to exon 10 (length 2047)\n",
      "1 1\n",
      "Starting NUTM1 CDS (length 3483) at exon 3 (length 3383)\n",
      "2 1\n",
      "('BRD4', 10) ('NUTM1', 3) 0\n",
      "Truncating BRD4 CDS (length 4089) to exon 10 (length 2047)\n",
      "1 1\n",
      "Starting NUTM1 CDS (length 3483) at exon 4 (length 2674)\n",
      "1 2\n",
      "('BRD4', 10) ('NUTM1', 4) 2\n",
      "Truncating BRD4 CDS (length 4089) to exon 11 (length 2158)\n",
      "1 1\n",
      "Starting NUTM1 CDS (length 3483) at exon 2 (length 3477)\n",
      "0 0\n",
      "('BRD4', 11) ('NUTM1', 2) 1\n",
      "Truncating BRD4 CDS (length 4089) to exon 11 (length 2158)\n",
      "1 1\n",
      "Starting NUTM1 CDS (length 3483) at exon 5 (length 2545)\n",
      "1 2\n",
      "('BRD4', 11) ('NUTM1', 5) 2\n",
      "Truncating BRD4 CDS (length 4089) to exon 12 (length 2211)\n",
      "0 0\n",
      "Starting NUTM1 CDS (length 3483) at exon 2 (length 3477)\n",
      "0 0\n",
      "('BRD4', 12) ('NUTM1', 2) 0\n",
      "Truncating BRD4 CDS (length 4089) to exon 12 (length 2211)\n",
      "0 0\n",
      "Starting NUTM1 CDS (length 3483) at exon 5 (length 2545)\n",
      "1 2\n",
      "('BRD4', 12) ('NUTM1', 5) 1\n",
      "Truncating BRD4 CDS (length 4089) to exon 14 (length 3169)\n",
      "1 1\n",
      "Starting NUTM1 CDS (length 3483) at exon 2 (length 3477)\n",
      "0 0\n",
      "('BRD4', 14) ('NUTM1', 2) 1\n",
      "Truncating BRD4 CDS (length 4089) to exon 14 (length 3169)\n",
      "1 1\n",
      "Starting NUTM1 CDS (length 3483) at exon 5 (length 2545)\n",
      "1 2\n",
      "('BRD4', 14) ('NUTM1', 5) 2\n",
      "Truncating BRD4 CDS (length 4089) to exon 15 (length 3282)\n",
      "0 0\n",
      "Starting NUTM1 CDS (length 3483) at exon 2 (length 3477)\n",
      "0 0\n",
      "('BRD4', 15) ('NUTM1', 2) 0\n",
      "Truncating BRD4 CDS (length 4089) to exon 15 (length 3282)\n",
      "0 0\n",
      "Starting NUTM1 CDS (length 3483) at exon 5 (length 2545)\n",
      "1 2\n",
      "('BRD4', 15) ('NUTM1', 5) 1\n",
      "Truncating CIC CDS (length 7554) to exon 16 (length 6522)\n",
      "0 0\n",
      "Starting NUTM1 CDS (length 3483) at exon 2 (length 3477)\n",
      "0 0\n",
      "('CIC', 16) ('NUTM1', 2) 0\n",
      "Truncating CIC CDS (length 7554) to exon 16 (length 6522)\n",
      "0 0\n",
      "Starting NUTM1 CDS (length 3483) at exon 5 (length 2545)\n",
      "1 2\n",
      "('CIC', 16) ('NUTM1', 5) 1\n",
      "Truncating CIC CDS (length 7554) to exon 18 (length 6922)\n",
      "1 1\n",
      "Starting NUTM1 CDS (length 3483) at exon 3 (length 3383)\n",
      "2 1\n",
      "('CIC', 18) ('NUTM1', 3) 0\n",
      "Truncating CIC CDS (length 7554) to exon 18 (length 6922)\n",
      "1 1\n",
      "Starting NUTM1 CDS (length 3483) at exon 4 (length 2674)\n",
      "1 2\n",
      "('CIC', 18) ('NUTM1', 4) 2\n",
      "Truncating CIC CDS (length 7554) to exon 19 (length 7054)\n",
      "1 1\n",
      "Starting NUTM1 CDS (length 3483) at exon 2 (length 3477)\n",
      "0 0\n",
      "('CIC', 19) ('NUTM1', 2) 1\n",
      "Truncating CIC CDS (length 7554) to exon 19 (length 7054)\n",
      "1 1\n",
      "Starting NUTM1 CDS (length 3483) at exon 5 (length 2545)\n",
      "1 2\n",
      "('CIC', 19) ('NUTM1', 5) 2\n",
      "Truncating CIC CDS (length 7554) to exon 20 (length 7186)\n",
      "1 1\n",
      "Starting NUTM1 CDS (length 3483) at exon 2 (length 3477)\n",
      "0 0\n",
      "('CIC', 20) ('NUTM1', 2) 1\n",
      "Truncating CIC CDS (length 7554) to exon 20 (length 7186)\n",
      "1 1\n",
      "Starting NUTM1 CDS (length 3483) at exon 5 (length 2545)\n",
      "1 2\n",
      "('CIC', 20) ('NUTM1', 5) 2\n",
      "Truncating SLC12A6 CDS (length 3429) to exon 2 (length 316)\n",
      "1 1\n",
      "Starting NUTM1 CDS (length 3483) at exon 2 (length 3477)\n",
      "0 0\n",
      "('SLC12A6', 2) ('NUTM1', 2) 1\n",
      "Truncating SLC12A6 CDS (length 3429) to exon 2 (length 316)\n",
      "1 1\n",
      "Starting NUTM1 CDS (length 3483) at exon 5 (length 2545)\n",
      "1 2\n",
      "('SLC12A6', 2) ('NUTM1', 5) 2\n",
      "Truncating YAP1 CDS (length 1515) to exon 3 (length 688)\n",
      "1 1\n",
      "Starting NUTM1 CDS (length 3483) at exon 3 (length 3383)\n",
      "2 1\n",
      "('YAP1', 3) ('NUTM1', 3) 0\n",
      "Truncating YAP1 CDS (length 1515) to exon 3 (length 688)\n",
      "1 1\n",
      "Starting NUTM1 CDS (length 3483) at exon 4 (length 2674)\n",
      "1 2\n",
      "('YAP1', 3) ('NUTM1', 4) 2\n"
     ]
    }
   ],
   "source": [
    "fused_coding_sequences = {}\n",
    "breakpoint_offset = {}\n",
    "for (k1, k2) in valid_pairs:\n",
    "    (p5_name, p5_exon), (p3_name, p3_exon) = k1, k2\n",
    "    p5_t = name_to_transcript[p5_name]\n",
    "    p5_full_cds = p5_t.coding_sequence\n",
    "    p5_cds_length = name_and_exon_to_cds_length[(p5_name, p5_exon)]\n",
    "    print(\"Truncating %s CDS (length %d) to exon %d (length %d)\" % (\n",
    "        p5_name,\n",
    "        len(p5_full_cds),\n",
    "        p5_exon,\n",
    "        p5_cds_length,\n",
    "    ))\n",
    "    p5_cds = p5_full_cds[:p5_cds_length]\n",
    "    \n",
    "    print(len(p5_cds) % 3, name_and_exon_end_phase[k1])\n",
    "    p3_t = name_to_transcript[p3_name]\n",
    "    p3_full_cds = p3_t.coding_sequence\n",
    "    p3_cds_length_before = name_and_exon_to_cds_length[(p3_name, p3_exon - 1)]\n",
    "    p3_cds_length = len(p3_full_cds) - p3_cds_length_before\n",
    "    p3_cds = p3_full_cds[p3_cds_length_before:]\n",
    "    assert len(p3_cds) == p3_cds_length\n",
    "    print(\"Starting %s CDS (length %d) at exon %d (length %d)\" % (\n",
    "        p3_name,\n",
    "        len(p3_full_cds),\n",
    "        p3_exon,\n",
    "        len(p3_cds)\n",
    "    ))\n",
    "    print(len(p3_cds) % 3, name_and_exon_start_phase[k2])\n",
    "\n",
    "    combined_cds = p5_cds + p3_cds\n",
    "    print(k1, k2, len(combined_cds) % 3)\n",
    "    fused_coding_sequences[(k1, k2)] = combined_cds\n",
    "    breakpoint_offset[(k1, k2)] = len(p5_cds)\n",
    "    \n",
    "    "
   ]
  },
  {
   "cell_type": "code",
   "execution_count": 128,
   "id": "c9fde241",
   "metadata": {},
   "outputs": [],
   "source": [
    "def translate(seq):\n",
    "      \n",
    "    table = {\n",
    "        'ATA':'I', 'ATC':'I', 'ATT':'I', 'ATG':'M',\n",
    "        'ACA':'T', 'ACC':'T', 'ACG':'T', 'ACT':'T',\n",
    "        'AAC':'N', 'AAT':'N', 'AAA':'K', 'AAG':'K',\n",
    "        'AGC':'S', 'AGT':'S', 'AGA':'R', 'AGG':'R',                \n",
    "        'CTA':'L', 'CTC':'L', 'CTG':'L', 'CTT':'L',\n",
    "        'CCA':'P', 'CCC':'P', 'CCG':'P', 'CCT':'P',\n",
    "        'CAC':'H', 'CAT':'H', 'CAA':'Q', 'CAG':'Q',\n",
    "        'CGA':'R', 'CGC':'R', 'CGG':'R', 'CGT':'R',\n",
    "        'GTA':'V', 'GTC':'V', 'GTG':'V', 'GTT':'V',\n",
    "        'GCA':'A', 'GCC':'A', 'GCG':'A', 'GCT':'A',\n",
    "        'GAC':'D', 'GAT':'D', 'GAA':'E', 'GAG':'E',\n",
    "        'GGA':'G', 'GGC':'G', 'GGG':'G', 'GGT':'G',\n",
    "        'TCA':'S', 'TCC':'S', 'TCG':'S', 'TCT':'S',\n",
    "        'TTC':'F', 'TTT':'F', 'TTA':'L', 'TTG':'L',\n",
    "        'TAC':'Y', 'TAT':'Y', 'TAA':'_', 'TAG':'_',\n",
    "        'TGC':'C', 'TGT':'C', 'TGA':'_', 'TGG':'W',\n",
    "    }\n",
    "    protein = \"\"\n",
    "    if len(seq)%3 == 0:\n",
    "        for i in range(0, len(seq), 3):\n",
    "            codon = seq[i:i + 3]\n",
    "            protein+= table[codon]\n",
    "    return protein"
   ]
  },
  {
   "cell_type": "code",
   "execution_count": 130,
   "id": "cf7d43eb",
   "metadata": {},
   "outputs": [
    {
     "data": {
      "text/plain": [
       "'ATGGATCCCGGGCAGCAGCCGCCGCCTCAACCGGCCCCCCAGGGCCAAGGGCAGCCGCCTTCGCAGCCCCCGCAGGGGCAGGGCCCGCCGTCCGGACCCGGGCAACCGGCACCCGCGGCGACCCAGGCGGCGCCGCAGGCACCCCCCGCCGGGCATCAGATCGTGCACGTCCGCGGGGACTCGGAGACCGACCTGGAGGCGCTCTTCAACGCCGTCATGAACCCCAAGACGGCCAACGTGCCCCAGACCGTGCCCATGAGGCTCCGGAAGCTGCCCGACTCCTTCTTCAAGCCGCCGGAGCCCAAATCCCACTCCCGACAGGCCAGTACTGATGCAGGCACTGCAGGAGCCCTGACTCCACAGCATGTTCGAGCTCATTCCTCTCCAGCTTCTCTGCAGTTGGGAGCTGTTTCTCCTGGGACACTGACCCCCACTGGAGTAGTCTCTGGCCCAGCAGCTACACCCACAGCTCAGCATCTTCGACAGTCTTCTTTTGAGATACCTGATGATGTACCTCTGCCAGCAGGTTGGGAGATGGCAAAGACATCTTCTGGTCAGAGATACTTCTTAAATCACATCGATCAGACAACAACATGGCAGGACCCCAGGAAGGCCATGCTGTCCCAGATGAACGTCACAGCCCCCACCAGTCCACCAGTGCAGCAGAATATGATGAACTCGGCTTCAGCCCAGTGCTTCGTTCCCTGGCCCGGCTGAAGCCCACTATGACCCTGGAGGAGGGACTGCCATTGGCTGTGCAGGAGTGGGAGCACACCAGCAACTTTGACCGGATGATCTTTTATGAGATGGCAGAAAGGTTCATGGAGTTTGAGGCTGAGGAGATGCAGATTCAGAACACACAGCTGATGAATGGGTCTCAGGGCCTGTCTCCTGCAACCCCTTTGAAACTTGATCCTCTAGGGCCCCTGGCCTCTGAGGTTTGCCAGCAGCCAGTGTACATTCCGAAGAAGGCAGCCTCCAAGACACGGGCCCCCCGCCGGCGTCAGCGTAAAGCCCAGAGACCTCCTGCTCCTGAGGCACCCAAGGAGATCCCACCAGAAGCTGTGAAGGAGTATGTTGACATCATGGAATGGCTGGTGGGGACTCACTTGGCCACTGGGGAGTCAGATGGAAAACAAGAGGAAGAAGGGCAGCAGCAGGAGGAGGAAGGGATGTATCCAGATCCAGGTCTCCTGAGCTACATCAATGAGCTGTGTTCTCAGAAGGTCTTTGTCTCCAAGGTGGAGGCTGTCATTCACCCTCAATTTCTGGCAGATCTGCTGTCCCCAGAAAAACAGAGAGATCCCTTGGCCTTAATTGAGGAGCTAGAGCAAGAAGAAGGACTCACTCTTGCCCAGCTGGTCCAGAAGCGACTCATGGCCTTGGAAGAGGAGGAAGATGCAGAGGCGCCTCCAAGTTTCAGTGGCGCTCAGTTGGACTCAAGTCCTTCTGGTTCTGTTGAGGATGAAGATGGGGATGGGCGGCTTCGGCCCTCACCTGGGCTTCAGGGGGCTGGGGGCGCCGCTTGCCTTGGAAAGGTTTCTTCTTCAGGAAAACGGGCAAGAGAAGTGCATGGTGGGCAGGAGCAAGCCCTAGATAGCCCCAGAGGGATGCACAGGGATGGGAACACTCTGCCATCCCCCAGCAGCTGGGACCTGCAGCCAGAACTTGCAGCTCCACAGGGAACTCCGGGACCCTTGGGTGTGGAGAGGAGAGGGTCTGGGAAGGTTATAAACCAGGTATCTCTACATCAGGATGGCCATCTAGGAGGCGCTGGGCCTCCTGGGCACTGCCTGGTGGCTGATAGGACTTCAGAGGCTCTGCCCCTTTGTTGGCAGGGAGGCTTCCAGCCTGAGAGCACTCCCAGTTTGGATGCTGGACTTGCAGAGCTGGCTCCTCTGCAAGGACAAGGGTTAGAAAAGCAAGTCCTGGGATTGCAGAAAGGACAACAAACAGGGGGTCGTGGAGTGCTTCCTCAAGGGAAGGAGCCTTTAGCAGTGCCCTGGGAAGGCTCTTCAGGAGCCATGTGGGGAGATGACAGAGGTACCCCCATGGCTCAGAGTTATGATCAGAATCCTTCCCCTAGAGCAGCTGGGGAGAGGGACGATGTCTGTCTCAGCCCAGGAGTTTGGCTGAGCAGTGAGATGGATGCTGTAGGCTTGGAGCTGCCTGTACAAATAGAGGAGGTCATAGAGAGCTTCCAAGTTGAGAAGTGTGTAACTGAGTATCAGGAAGGCTGCCAGGGACTGGGCTCCAGGGGCAACATTTCCCTGGGTCCTGGAGAAACCCTAGTACCTGGGGATACGGAGAGCAGTGTGATTCCCTGTGGAGGCACAGTTGCGGCAGCTGCCCTAGAAAAGAGAAACTATTGCAGCTTGCCAGGACCTTTGAGGGCCAACAGCCCACCCTTGAGGTCCAAAGAAAATCAAGAACAGAGCTGTGAAACCGTAGGGCATCCCAGTGATCTGTGGGCAGAAGGTTGCTTCCCATTGCTAGAAAGTGGTGATTCCACACTGGGGTCTTCCAAAGAAACCCTTCCACCCACATGCCAAGGCAATCTCCTTATCATGGGGACTGAGGATGCCTCCTCCTTGCCTGAAGCCAGTCAAGAGGCAGGGAGCAGAGGCAATTCCTTTTCTCCTCTGTTGGAAACCATAGAACCTGTCAACATACTAGATGTTAAAGATGACTGTGGCCTCCAACTAAGGGTCAGCGAGGACACCTGCCCACTGAATGTTCATTCTTATGACCCCCAAGGAGAAGGCAGGGTGGATCCTGATCTGTCCAAGCCTAAAAACCTTGCTCCTTTACAAGAGAGTCAGGAGTCTTACACAACTGGGACTCCCAAAGCAACATCTTCTCACCAGGGCCTTGGAAGCACTTTGCCTAGAAGGGGAACCAGGAATGCCATAGTTCCGAGAGAAACTTCTGTTAGTAAAACACACAGGTCAGCAGACAGGGCCAAAGGAAAGGAGAAAAAGAAAAAGGAAGCAGAGGAAGAGGATGAGGAACTCTCCAACTTTGCTTACCTCTTGGCCTCTAAACTTAGCCTCTCACCAAGGGAGCATCCCCTCAGTCCTCACCATGCCTCAGGAGGTCAGGGCAGCCAGAGAGCATCCCACCTGCTCCCTGCTGGAGCAAAAGGCCCCAGCAAACTTCCATATCCTGTTGCCAAGTCTGGGAAGCGAGCTCTAGCTGGAGGTCCAGCCCCTACTGAAAAGACACCCCACTCAGGAGCTCAACTTGGGGTCCCCAGGGAGAAACCCCTAGCTCTGGGAGTAGTTCGACCCTCACAGCCTCGTAAAAGGCGGTGTGACAGTTTTGTCACGGGCAGAAGGAAGAAACGACGTCGTAGCCAGTAG'"
      ]
     },
     "execution_count": 130,
     "metadata": {},
     "output_type": "execute_result"
    }
   ],
   "source": [
    "combined_cds"
   ]
  },
  {
   "cell_type": "code",
   "execution_count": 71,
   "id": "8d1fa0d7",
   "metadata": {},
   "outputs": [
    {
     "data": {
      "text/plain": [
       "[(34343315, 34343702),\n",
       " (34345942, 34346035),\n",
       " (34347969, 34348677),\n",
       " (34350704, 34350832),\n",
       " (34353736, 34353872),\n",
       " (34354446, 34354732),\n",
       " (34355021, 34355137),\n",
       " (34355488, 34357735)]"
      ]
     },
     "execution_count": 71,
     "metadata": {},
     "output_type": "execute_result"
    }
   ],
   "source": [
    "t.exon_intervals"
   ]
  },
  {
   "cell_type": "code",
   "execution_count": 80,
   "id": "b7e343c9",
   "metadata": {},
   "outputs": [
    {
     "data": {
      "text/plain": [
       "682.3333333333334"
      ]
     },
     "execution_count": 80,
     "metadata": {},
     "output_type": "execute_result"
    }
   ],
   "source": [
    "2047 / 3\n"
   ]
  },
  {
   "cell_type": "code",
   "execution_count": 139,
   "id": "6353df59",
   "metadata": {},
   "outputs": [
    {
     "data": {
      "text/plain": [
       "1161.0"
      ]
     },
     "execution_count": 139,
     "metadata": {},
     "output_type": "execute_result"
    }
   ],
   "source": [
    "3483 / 3"
   ]
  },
  {
   "cell_type": "code",
   "execution_count": null,
   "id": "1b9e00ed",
   "metadata": {},
   "outputs": [],
   "source": []
  }
 ],
 "metadata": {
  "kernelspec": {
   "display_name": "Python 3 (ipykernel)",
   "language": "python",
   "name": "python3"
  },
  "language_info": {
   "codemirror_mode": {
    "name": "ipython",
    "version": 3
   },
   "file_extension": ".py",
   "mimetype": "text/x-python",
   "name": "python",
   "nbconvert_exporter": "python",
   "pygments_lexer": "ipython3",
   "version": "3.8.11"
  }
 },
 "nbformat": 4,
 "nbformat_minor": 5
}
