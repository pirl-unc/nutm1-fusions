{
 "cells": [
  {
   "cell_type": "code",
   "execution_count": 1,
   "id": "c7ed7005",
   "metadata": {},
   "outputs": [],
   "source": [
    "import pyensembl "
   ]
  },
  {
   "cell_type": "code",
   "execution_count": 2,
   "id": "8ab08693",
   "metadata": {},
   "outputs": [],
   "source": [
    "human = pyensembl.genome_for_reference_name(\"GRCh38\")\n",
    "mouse = pyensembl.genome_for_reference_name(\"GRCm38\")"
   ]
  },
  {
   "cell_type": "code",
   "execution_count": 3,
   "id": "9baa82b2",
   "metadata": {},
   "outputs": [
    {
     "name": "stderr",
     "output_type": "stream",
     "text": [
      "INFO:pyensembl.sequence_data:Loaded sequence dictionary from /Users/iskander/Library/Caches/pyensembl/GRCh38/ensembl109/Homo_sapiens.GRCh38.cdna.all.fa.gz.pickle\n",
      "INFO:pyensembl.sequence_data:Loaded sequence dictionary from /Users/iskander/Library/Caches/pyensembl/GRCh38/ensembl109/Homo_sapiens.GRCh38.ncrna.fa.gz.pickle\n",
      "INFO:pyensembl.sequence_data:Loaded sequence dictionary from /Users/iskander/Library/Caches/pyensembl/GRCm38/ensembl102/Mus_musculus.GRCm38.cdna.all.fa.gz.pickle\n",
      "INFO:pyensembl.sequence_data:Loaded sequence dictionary from /Users/iskander/Library/Caches/pyensembl/GRCm38/ensembl102/Mus_musculus.GRCm38.ncrna.fa.gz.pickle\n"
     ]
    }
   ],
   "source": [
    "human_transcripts = human.transcript_sequences.fasta_dictionary\n",
    "mouse_transcripts = mouse.transcript_sequences.fasta_dictionary"
   ]
  },
  {
   "cell_type": "code",
   "execution_count": 4,
   "id": "c609458a",
   "metadata": {},
   "outputs": [],
   "source": [
    "test_set = {'AACCCCTTTGAAACTTGATCC',\n",
    " 'AAGGAGATCCCACCAGAAGCT',\n",
    " 'AAGGAGTATGTTGACATCATG',\n",
    " 'ACATCATGGAATGGCTGGTGG',\n",
    " 'ACTCACTTGGCCACTGGGGAG',\n",
    " 'AGCAGCCAGTGTACATTCCGA',\n",
    " 'AGCCAGTGTACATTCCGAAGA',\n",
    " 'AGGAAGGGATGTATCCAGATC',\n",
    " 'AGGAGGAAGGGATGTATCCAG',\n",
    " 'AGGAGTATGTTGACATCATGG',\n",
    " 'AGTATGTTGACATCATGGAAT',\n",
    " 'AGTGCTTCGTTCCCTGGCCCG',\n",
    " 'AGTGGGAGCACACCAGCAACT',\n",
    " 'AGTGTACATTCCGAAGAAGGC',\n",
    " 'ATTGGCTGTGCAGGAGTGGGA',\n",
    " 'CAACCCCTTTGAAACTTGATC',\n",
    " 'CAAGGAGATCCCACCAGAAGC',\n",
    " 'CAGCAGCCAGTGTACATTCCG',\n",
    " 'CAGCCAGTGTACATTCCGAAG',\n",
    " 'CAGTGCTTCGTTCCCTGGCCC',\n",
    " 'CAGTGTACATTCCGAAGAAGG',\n",
    " 'CATCAATGAGCTGTGTTCTCA',\n",
    " 'CCAGCAGCCAGTGTACATTCC',\n",
    " 'CCAGTGCTTCGTTCCCTGGCC',\n",
    " 'CCAGTGTACATTCCGAAGAAG',\n",
    " 'CCCAGTGCTTCGTTCCCTGGC',\n",
    " 'CCCCCCGCCGGCGTCAGCGTA',\n",
    " 'CCCCCGCCGGCGTCAGCGTAA',\n",
    " 'CCCCGCCGGCGTCAGCGTAAA',\n",
    " 'CCCGCCGGCGTCAGCGTAAAG',\n",
    " 'CCGCCGGCGTCAGCGTAAAGC',\n",
    " 'CCGGCGTCAGCGTAAAGCCCA',\n",
    " 'CCTGAGGCACCCAAGGAGATC',\n",
    " 'CGCCGGCGTCAGCGTAAAGCC',\n",
    " 'CGGCGTCAGCGTAAAGCCCAG',\n",
    " 'CGTCAGCGTAAAGCCCAGAGA',\n",
    " 'GAAGGAGTATGTTGACATCAT',\n",
    " 'GACCGGATGATCTTTTATGAG',\n",
    " 'GACTCACTTGGCCACTGGGGA',\n",
    " 'GAGGAAGGGATGTATCCAGAT',\n",
    " 'GAGTATGTTGACATCATGGAA',\n",
    " 'GAGTGGGAGCACACCAGCAAC',\n",
    " 'GCAACCCCTTTGAAACTTGAT',\n",
    " 'GCAGCCAGTGTACATTCCGAA',\n",
    " 'GCCAGTGTACATTCCGAAGAA',\n",
    " 'GCCCACTATGACCCTGGAGGA',\n",
    " 'GCCCCCCGCCGGCGTCAGCGT',\n",
    " 'GCCGGCGTCAGCGTAAAGCCC',\n",
    " 'GCGTCAGCGTAAAGCCCAGAG',\n",
    " 'GCTTCGTTCCCTGGCCCGGCT',\n",
    " 'GGAAGGGATGTATCCAGATCC',\n",
    " 'GGAGGAAGGGATGTATCCAGA',\n",
    " 'GGAGTATGTTGACATCATGGA',\n",
    " 'GGCCCCCCGCCGGCGTCAGCG',\n",
    " 'GGCGTCAGCGTAAAGCCCAGA',\n",
    " 'GTATGTTGACATCATGGAATG',\n",
    " 'GTCAGCGTAAAGCCCAGAGAC',\n",
    " 'GTGAAGGAGTATGTTGACATC',\n",
    " 'GTGCTTCGTTCCCTGGCCCGG',\n",
    " 'GTGTACATTCCGAAGAAGGCA',\n",
    " 'TCCTGAGGCACCCAAGGAGAT',\n",
    " 'TGAAGGAGTATGTTGACATCA',\n",
    " 'TGCAACCCCTTTGAAACTTGA',\n",
    " 'TGCTTCGTTCCCTGGCCCGGC',\n",
    " 'TTGGCTGTGCAGGAGTGGGAG'}\n",
    "\n",
    "test_string = \"\".join(test_set)\n"
   ]
  },
  {
   "cell_type": "code",
   "execution_count": 5,
   "id": "241ab770",
   "metadata": {},
   "outputs": [],
   "source": [
    "import tqdm\n",
    "from collections import defaultdict\n",
    "import numpy as np\n",
    "\n",
    "from sys import intern \n",
    "\n",
    "def seq_to_kmers(seq, k):\n",
    "    return {\n",
    "        seq[i:i+k] for i in range(len(seq) - k + 1) \n",
    "    }"
   ]
  },
  {
   "cell_type": "code",
   "execution_count": 7,
   "id": "bd45f275",
   "metadata": {},
   "outputs": [
    {
     "name": "stdout",
     "output_type": "stream",
     "text": [
      "== Human ==\n",
      "k=14\n"
     ]
    },
    {
     "name": "stderr",
     "output_type": "stream",
     "text": [
      "100%|██████████████████████████████████████████████████████████████████████████████████████████████████████████████████████████████████████████████████████████████████████████████████████████████████████████████████████████████████████████████████████████████████████████████| 273426/273426 [35:34<00:00, 128.10it/s]\n"
     ]
    },
    {
     "name": "stdout",
     "output_type": "stream",
     "text": [
      "== Mouse ==\n",
      "k=14\n"
     ]
    },
    {
     "name": "stderr",
     "output_type": "stream",
     "text": [
      "100%|█████████████████████████████████████████████████████████████████████████████████████████████████████████████████████████████████████████████████████████████████████████████████████████████████████████████████████████████████████████████████████████████████████████████| 141450/141450 [5:29:34<00:00,  7.15it/s]\n"
     ]
    }
   ],
   "source": [
    "from sys import intern\n",
    "\n",
    "def record_kmer_sources(transcripts, min_k=12, max_k=14):\n",
    "    ks = list(range(min_k, max_k + 1))\n",
    "    kmers = {k: defaultdict(set) for k in ks}\n",
    "    max_kmers = defaultdict(list)\n",
    "    print(\"k=%d\" % max_k)\n",
    "    for t_id, seq in tqdm.tqdm(transcripts.items()):\n",
    "        for kmer in seq_to_kmers(np.string_(seq), max_k):\n",
    "            max_kmers[kmer].append(t_id)\n",
    "    # kmer[max_k] = {kmer: set(t_ids) for (kmer, t_ids) in max_kmers.items()}\n",
    "    kmers[max_k] = max_kmers\n",
    "    for k in range(max_k - 1, min_k - 1, -1):\n",
    "        print(\"...k=%d\" % k)\n",
    "        kmers_one_higher = kmers[k + 1]\n",
    "        curr_kmers = kmers[k]\n",
    "        for (kmer, transcript_ids) in tqdm.tqdm(kmers_one_higher.items()):\n",
    "            curr_kmers[kmer[1:]].update(transcript_ids)\n",
    "            curr_kmers[kmer[:-1]].update(transcript_ids)\n",
    "    return kmers \n",
    "\n",
    "min_k = 14\n",
    "max_k = 14\n",
    "print(\"== Human ==\")\n",
    "human_kmers = record_kmer_sources(human_transcripts, min_k, max_k) \n",
    "\n",
    "print(\"== Mouse ==\")\n",
    "mouse_kmers = record_kmer_sources(mouse_transcripts, min_k, max_k) "
   ]
  },
  {
   "cell_type": "code",
   "execution_count": null,
   "id": "7caab33b",
   "metadata": {},
   "outputs": [],
   "source": [
    "human_nutm1 = human.genes_by_name(\"NUTM1\")[0]\n",
    "mouse_nutm1 = mouse.genes_by_name(\"Nutm1\")[0]\n",
    "human_nutm1_transcripts = human_nutm1.transcripts\n",
    "human_nutm1_transcript_ids = {t.id for t in human_nutm1_transcripts}\n",
    "mouse_nutm1_transcripts = mouse_nutm1.transcripts\n",
    "mouse_nutm1_transcript_ids = {t.id for t in mouse_nutm1_transcripts}\n"
   ]
  },
  {
   "cell_type": "code",
   "execution_count": null,
   "id": "2a2f926f",
   "metadata": {},
   "outputs": [],
   "source": [
    "human_nutm1_seqs = {t.id: t.sequence for t in human_nutm1_transcripts}"
   ]
  },
  {
   "cell_type": "code",
   "execution_count": null,
   "id": "ca072dd0",
   "metadata": {},
   "outputs": [],
   "source": [
    "{t_id: len(seq) for (t_id, seq) in human_nutm1_seqs.items()}"
   ]
  },
  {
   "cell_type": "code",
   "execution_count": null,
   "id": "9d29aa10",
   "metadata": {},
   "outputs": [],
   "source": [
    "from collections import Counter, defaultdict\n",
    "aso_size = 21\n",
    "nt_from_last_exon = 1000\n",
    "nutm1_transcript_id_to_kmers = {}\n",
    "nutm1_transcript_id_to_kmer_counts = {}\n",
    "kmer_to_sources = defaultdict(set)\n",
    "for t in human_nutm1_transcripts:\n",
    "    print(t.name, t.id, len(t.exons), [len(e) for e in t.exons])\n",
    "    exons = t.exons\n",
    "    \n",
    "    sequence = t.sequence\n",
    "    start_offset = len(exons[0]) + len(exons[1])\n",
    "    middle_exons_length = sum([len(e) for e in exons[2:-1]])\n",
    "                         \n",
    "    end_offset = start_offset + middle_exons_length + nt_from_last_exon\n",
    "    print(\"... %d:%d\" % (start_offset, end_offset))\n",
    "    subseq = sequence[start_offset:end_offset]\n",
    "    kmers = seq_to_kmers(subseq, aso_size)\n",
    "    nutm1_transcript_id_to_kmers[t.id] = kmers\n",
    "    c = Counter()\n",
    "    for kmer in kmers:\n",
    "        c[kmer] += 1\n",
    "    nutm1_transcript_id_to_kmer_counts[t.id] = c\n",
    "\n",
    "intersection_kmers = set.intersection(*nutm1_transcript_id_to_kmers.values())\n",
    "ok_ids = {t.id for t in human_nutm1_transcripts}\n",
    "\n",
    "kmer_to_off_target_count = Counter()\n",
    "for candidate in tqdm.tqdm(intersection_kmers):\n",
    "    n = len(candidate)\n",
    "    for i in range(n - max_k + 1):\n",
    "        sub_kmer = candidate[i:i+max_k]\n",
    "        off_target_transcript_ids = set(human_kmers[max_k][sub_kmer])\n",
    "        off_target_transcript_ids_without_nutm1 = off_target_transcript_ids.difference(ok_ids)\n",
    "        kmer_to_off_target_count[candidate] += len(off_target_transcript_ids_without_nutm1)"
   ]
  },
  {
   "cell_type": "code",
   "execution_count": null,
   "id": "5be7bd4c",
   "metadata": {},
   "outputs": [],
   "source": [
    "kmer_to_off_target_count"
   ]
  },
  {
   "cell_type": "code",
   "execution_count": null,
   "id": "3bc58b54",
   "metadata": {},
   "outputs": [],
   "source": [
    "ok_candidates = {candidate for candidate, count in kmer_to_off_target_count.items() if count == 0}"
   ]
  },
  {
   "cell_type": "code",
   "execution_count": null,
   "id": "f21ec4f9",
   "metadata": {},
   "outputs": [],
   "source": [
    "len(ok_candidates)"
   ]
  },
  {
   "cell_type": "code",
   "execution_count": null,
   "id": "938ebf99",
   "metadata": {},
   "outputs": [],
   "source": [
    "ok_candidates"
   ]
  },
  {
   "cell_type": "code",
   "execution_count": 23,
   "id": "635565c4",
   "metadata": {},
   "outputs": [],
   "source": [
    "\n",
    "with open(\"aso-candidates-%dmer.txt\" % aso_size, \"w\") as f:\n",
    "    for seq in ok_candidates:\n",
    "        f.write(seq + \"\\n\")"
   ]
  },
  {
   "cell_type": "code",
   "execution_count": null,
   "id": "f6d7df5b",
   "metadata": {},
   "outputs": [],
   "source": []
  },
  {
   "cell_type": "code",
   "execution_count": null,
   "id": "1dafdf0e",
   "metadata": {},
   "outputs": [],
   "source": []
  }
 ],
 "metadata": {
  "kernelspec": {
   "display_name": "Python 3 (ipykernel)",
   "language": "python",
   "name": "python3"
  },
  "language_info": {
   "codemirror_mode": {
    "name": "ipython",
    "version": 3
   },
   "file_extension": ".py",
   "mimetype": "text/x-python",
   "name": "python",
   "nbconvert_exporter": "python",
   "pygments_lexer": "ipython3",
   "version": "3.10.10"
  }
 },
 "nbformat": 4,
 "nbformat_minor": 5
}
